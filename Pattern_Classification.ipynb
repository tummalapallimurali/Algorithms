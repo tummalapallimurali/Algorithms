{
  "nbformat": 4,
  "nbformat_minor": 0,
  "metadata": {
    "colab": {
      "provenance": [],
      "authorship_tag": "ABX9TyO1E/TfZ2cIeXU9UxNK0oT0",
      "include_colab_link": true
    },
    "kernelspec": {
      "name": "python3",
      "display_name": "Python 3"
    },
    "language_info": {
      "name": "python"
    }
  },
  "cells": [
    {
      "cell_type": "markdown",
      "metadata": {
        "id": "view-in-github",
        "colab_type": "text"
      },
      "source": [
        "<a href=\"https://colab.research.google.com/github/tummalapallimurali/Algorithms/blob/main/Pattern_Classification.ipynb\" target=\"_parent\"><img src=\"https://colab.research.google.com/assets/colab-badge.svg\" alt=\"Open In Colab\"/></a>"
      ]
    },
    {
      "cell_type": "markdown",
      "source": [
        "# Pattern Classification\n",
        "\n",
        "* Input pattern belongs or does not belong to a particular class.\n",
        "* Binary(0,1) or Bipolar(-1,1)"
      ],
      "metadata": {
        "id": "eQcBygR-m-ts"
      }
    },
    {
      "cell_type": "markdown",
      "source": [
        "$ Net = \\sum_{i=1}^{n} W_i X_i $\n",
        " $ Out = f(Net)$\n"
      ],
      "metadata": {
        "id": "O2PnWrhaly74"
      }
    },
    {
      "cell_type": "code",
      "source": [
        "import numpy as np\n",
        "\n",
        "# Input patterns\n",
        "inputs = np.array([[1, 1,],[-1, 1],[1, -1],[-1, 1]])\n",
        "\n",
        "# Target outputs\n",
        "targets = np.array([1, 1, 1, -1])\n",
        "\n",
        "# Learning rate\n",
        "learning_rate = 1\n",
        "\n",
        "# Initialize weights\n",
        "weights = np.zeros(2)\n",
        "\n",
        "# Training\n",
        "for i in range(len(inputs)):\n",
        "    input_pattern = inputs[i]\n",
        "    target = targets[i]\n",
        "\n",
        "    # Calculate activation (assuming a simple linear neuron)\n",
        "    activation = np.dot(input_pattern, weights)\n",
        "\n",
        "    # Update weights\n",
        "    weights += learning_rate * target * input_pattern\n",
        "\n",
        "net = np.dot(inputs, weights)\n",
        "print(net)\n"
      ],
      "metadata": {
        "colab": {
          "base_uri": "https://localhost:8080/"
        },
        "id": "6FrHwajPuQQV",
        "outputId": "ab4bba9b-0440-4a71-b0f6-8e0d99cd502b"
      },
      "execution_count": 12,
      "outputs": [
        {
          "output_type": "stream",
          "name": "stdout",
          "text": [
            "[ 2. -2.  2. -2.]\n"
          ]
        }
      ]
    },
    {
      "cell_type": "code",
      "source": [
        "weights"
      ],
      "metadata": {
        "colab": {
          "base_uri": "https://localhost:8080/"
        },
        "id": "UUfrHXbhufuT",
        "outputId": "fa22f8d2-81ca-4928-856d-29cecec37573"
      },
      "execution_count": 11,
      "outputs": [
        {
          "output_type": "execute_result",
          "data": {
            "text/plain": [
              "array([2., 0.])"
            ]
          },
          "metadata": {},
          "execution_count": 11
        }
      ]
    }
  ]
}